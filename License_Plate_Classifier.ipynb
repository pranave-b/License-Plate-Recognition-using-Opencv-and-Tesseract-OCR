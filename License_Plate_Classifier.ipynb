{
 "cells": [
  {
   "cell_type": "code",
   "execution_count": null,
   "id": "c8f0d706",
   "metadata": {},
   "outputs": [],
   "source": [
    "import cv2\n",
    "import os\n",
    "import pytesseract"
   ]
  },
  {
   "cell_type": "code",
   "execution_count": null,
   "id": "5c9f0472",
   "metadata": {},
   "outputs": [],
   "source": [
    "# Set the path to the Tesseract executable (replace with your path if necessary)\n",
    "pytesseract.pytesseract.tesseract_cmd = r'C:\\Program Files\\Tesseract-OCR\\tesseract.exe'"
   ]
  },
  {
   "cell_type": "code",
   "execution_count": null,
   "id": "5b75549a",
   "metadata": {},
   "outputs": [],
   "source": [
    "# Function to perform license plate detection and save cropped images\n",
    "def detect_license_plate(image_path, output_folder):\n",
    "    # Read the image\n",
    "    img = cv2.imread(image_path)\n",
    "    \n",
    "    # Convert the image to grayscale\n",
    "    gray = cv2.cvtColor(img, cv2.COLOR_BGR2GRAY)\n",
    "    \n",
    "    # Apply Gaussian blur to reduce noise and help with contour detection\n",
    "    blurred = cv2.GaussianBlur(gray, (5, 5), 0)\n",
    "    \n",
    "    # Use the Canny edge detector to find edges in the image\n",
    "    edges = cv2.Canny(blurred, 50, 150)\n",
    "    \n",
    "    # Find contours in the edged image\n",
    "    contours, _ = cv2.findContours(edges, cv2.RETR_EXTERNAL, cv2.CHAIN_APPROX_SIMPLE)\n",
    "    \n",
    "    # Filter contours based on area\n",
    "    filtered_contours = [cnt for cnt in contours if cv2.contourArea(cnt) > 1000]\n",
    "    \n",
    "    # Loop through filtered contours and save cropped license plate images\n",
    "    for i, cnt in enumerate(filtered_contours):\n",
    "        x, y, w, h = cv2.boundingRect(cnt)\n",
    "        license_plate = img[y:y+h, x:x+w]\n",
    "        \n",
    "        # Save the cropped license plate image to the output folder\n",
    "        output_path = os.path.join(output_folder, f'license_plate_{i}.png')\n",
    "        cv2.imwrite(output_path, license_plate)\n",
    "    \n",
    "    # Draw the contours on the original image\n",
    "    cv2.drawContours(img, filtered_contours, -1, (0, 255, 0), 2)\n",
    "    \n",
    "    # Display the original image with contours\n",
    "    cv2.imshow('Contours', img)\n",
    "    cv2.waitKey(0)\n",
    "    cv2.destroyAllWindows()"
   ]
  },
  {
   "cell_type": "code",
   "execution_count": null,
   "id": "21677d0c",
   "metadata": {},
   "outputs": [],
   "source": [
    "# Path to the folder containing input images\n",
    "input_folder = 'C:/Users/Abdul/Music/Mini Project/output'"
   ]
  },
  {
   "cell_type": "code",
   "execution_count": null,
   "id": "22feeb71",
   "metadata": {},
   "outputs": [],
   "source": [
    "# Path to the folder where cropped license plate images will be saved\n",
    "output_folder = 'C:/Users/Abdul/Music/Mini Project/output/Cropped'"
   ]
  },
  {
   "cell_type": "code",
   "execution_count": null,
   "id": "2c265f04",
   "metadata": {},
   "outputs": [],
   "source": [
    "# Create the output folder if it doesn't exist\n",
    "os.makedirs(output_folder, exist_ok=True)"
   ]
  },
  {
   "cell_type": "code",
   "execution_count": null,
   "id": "7a3a91cd",
   "metadata": {},
   "outputs": [],
   "source": [
    "# Loop through all files in the input folder\n",
    "for filename in os.listdir(input_folder):\n",
    "    if filename.endswith(('.jpg', '.jpeg', '.png')):\n",
    "        image_path = os.path.join(input_folder, filename)\n",
    "        detect_license_plate(image_path, output_folder)"
   ]
  }
 ],
 "metadata": {
  "kernelspec": {
   "display_name": "Python 3 (ipykernel)",
   "language": "python",
   "name": "python3"
  },
  "language_info": {
   "codemirror_mode": {
    "name": "ipython",
    "version": 3
   },
   "file_extension": ".py",
   "mimetype": "text/x-python",
   "name": "python",
   "nbconvert_exporter": "python",
   "pygments_lexer": "ipython3",
   "version": "3.10.13"
  }
 },
 "nbformat": 4,
 "nbformat_minor": 5
}
