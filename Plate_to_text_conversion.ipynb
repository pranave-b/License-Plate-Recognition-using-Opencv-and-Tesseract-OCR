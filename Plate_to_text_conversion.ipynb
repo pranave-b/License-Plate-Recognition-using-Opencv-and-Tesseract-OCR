{
 "cells": [
  {
   "cell_type": "code",
   "execution_count": 1,
   "id": "3662d207",
   "metadata": {},
   "outputs": [],
   "source": [
    "from PIL import Image\n",
    "import pytesseract\n",
    "import os\n",
    "import csv\n",
    "import pandas as pd"
   ]
  },
  {
   "cell_type": "code",
   "execution_count": 2,
   "id": "02d03e30",
   "metadata": {},
   "outputs": [],
   "source": [
    "# Set the correct path to the Tesseract executable\n",
    "pytesseract.pytesseract.tesseract_cmd = r'C:\\Program Files\\Tesseract-OCR\\tesseract.exe'"
   ]
  },
  {
   "cell_type": "code",
   "execution_count": 3,
   "id": "37ad0e08",
   "metadata": {},
   "outputs": [],
   "source": [
    "# Function to perform OCR on an image\n",
    "def image_to_text(image_path):\n",
    "    img = Image.open(image_path)\n",
    "    text = pytesseract.image_to_string(img)\n",
    "    return text.strip()  # Remove leading and trailing whitespaces"
   ]
  },
  {
   "cell_type": "code",
   "execution_count": 4,
   "id": "f1933ad4",
   "metadata": {},
   "outputs": [],
   "source": [
    "# Function to process images and compare extracted text with permitted vehicle list\n",
    "def process_images(folder_path, permitted_vehicles_xlsx):\n",
    "    text_list = []\n",
    "    \n",
    "    # Read permitted vehicles from the Excel file, skipping the first two rows\n",
    "    permitted_vehicles_df = pd.read_excel(permitted_vehicles_xlsx)\n",
    "\n",
    "    # Extract license plate numbers from the 'LP' column\n",
    "    permitted_vehicles = set(permitted_vehicles_df['LP'].astype(str).str.strip())\n",
    "\n",
    "    # Loop through all files in the folder\n",
    "    for filename in os.listdir(folder_path):\n",
    "        if filename.endswith(('.jpg', '.jpeg', '.png')):\n",
    "            image_path = os.path.join(folder_path, filename)\n",
    "            \n",
    "            # Extract text from the image\n",
    "            text = image_to_text(image_path)\n",
    "\n",
    "            # Clean extracted text to match permitted vehicles format\n",
    "            cleaned_text = ''.join(filter(str.isalnum, text)).upper()  # Remove spaces\n",
    "\n",
    "            # Check if the cleaned text corresponds to a permitted vehicle\n",
    "            if cleaned_text in permitted_vehicles:\n",
    "                print(f\"License Plate Number : {cleaned_text} - Permitted Vehicle\")\n",
    "            else:\n",
    "                print(f\"License Plate Number : {cleaned_text} - Not Permitted Vehicle\")\n",
    "\n",
    "            # Append the text to the list\n",
    "            text_list.append(text)\n",
    "\n",
    "    return text_list"
   ]
  },
  {
   "cell_type": "code",
   "execution_count": 5,
   "id": "1af83287",
   "metadata": {},
   "outputs": [
    {
     "name": "stdout",
     "output_type": "stream",
     "text": [
      "License Plate Number : LETIT6O1 - Permitted Vehicle\n"
     ]
    }
   ],
   "source": [
    "if __name__ == \"__main__\":\n",
    "    # Path to the folder containing images\n",
    "    folder_path = 'C:/Users/Abdul/Music/Mini Project/output/Cropped'\n",
    "\n",
    "    # Path to the file containing permitted vehicles\n",
    "    permitted_vehicles_xlsx = 'C:/Users/Abdul/Music/Mini Project/LPR.xlsx'\n",
    "\n",
    "    # Process images and get the text list\n",
    "    text_list = process_images(folder_path, permitted_vehicles_xlsx)"
   ]
  }
 ],
 "metadata": {
  "kernelspec": {
   "display_name": "Python 3 (ipykernel)",
   "language": "python",
   "name": "python3"
  },
  "language_info": {
   "codemirror_mode": {
    "name": "ipython",
    "version": 3
   },
   "file_extension": ".py",
   "mimetype": "text/x-python",
   "name": "python",
   "nbconvert_exporter": "python",
   "pygments_lexer": "ipython3",
   "version": "3.10.13"
  }
 },
 "nbformat": 4,
 "nbformat_minor": 5
}
